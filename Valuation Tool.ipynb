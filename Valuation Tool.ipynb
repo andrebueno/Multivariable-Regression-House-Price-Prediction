{
 "cells": [
  {
   "cell_type": "code",
   "execution_count": 1,
   "id": "ce9a88be",
   "metadata": {},
   "outputs": [],
   "source": [
    "from sklearn.datasets import load_boston\n",
    "from sklearn.linear_model import LinearRegression\n",
    "from sklearn.metrics import mean_squared_error\n",
    "\n",
    "import pandas as pd\n",
    "import numpy as np"
   ]
  },
  {
   "cell_type": "code",
   "execution_count": 10,
   "id": "df185936",
   "metadata": {},
   "outputs": [],
   "source": [
    "# Gather Data\n",
    "boston_dataset = load_boston()\n",
    "data = pd.DataFrame(data=boston_dataset.data, columns=boston_dataset.feature_names)\n",
    "features = data.drop(['INDUS', 'AGE'], axis=1)\n",
    "\n",
    "log_prices = np.log(boston_dataset.target)\n",
    "target = pd.DataFrame(log_prices, columns=['PRICE'])"
   ]
  },
  {
   "cell_type": "code",
   "execution_count": 20,
   "id": "4f226645",
   "metadata": {},
   "outputs": [
    {
     "data": {
      "text/plain": [
       "array([[3.61352356e+00, 1.13636364e+01, 6.91699605e-02, 5.54695059e-01,\n",
       "        6.28463439e+00, 3.79504269e+00, 9.54940711e+00, 4.08237154e+02,\n",
       "        1.84555336e+01, 3.56674032e+02, 1.26530632e+01]])"
      ]
     },
     "execution_count": 20,
     "metadata": {},
     "output_type": "execute_result"
    }
   ],
   "source": [
    "CRIM_IDX = 0\n",
    "ZN_IDX = 1\n",
    "CHAS_IDX = 2\n",
    "NOX_IDX = 3\n",
    "RM_IDX = 4\n",
    "DIS_IDX = 5\n",
    "RAD_IDX = 6\n",
    "TAX_IDX = 7\n",
    "PTRATIO_IDX = 8\n",
    "B_IDX = 9\n",
    "LSTAT_IDX = 10\n",
    "\n",
    "property_stats = features.mean().values.reshape(1, 11)\n",
    "\n",
    "property_stats"
   ]
  },
  {
   "cell_type": "code",
   "execution_count": 27,
   "id": "93aafd55",
   "metadata": {},
   "outputs": [],
   "source": [
    "regr = LinearRegression().fit(features, target)\n",
    "fitted_vals = regr.predict(features)\n",
    "\n",
    "# MSE and RMSE\n",
    "MSE = mean_squared_error(target, fitted_vals)\n",
    "RMSE = np.sqrt(MSE)"
   ]
  },
  {
   "cell_type": "code",
   "execution_count": 45,
   "id": "4498735f",
   "metadata": {},
   "outputs": [],
   "source": [
    "def get_log_estimate(nr_rooms,\n",
    "                    students_per_classroom,\n",
    "                    next_to_river=False,\n",
    "                    high_confidence=True):\n",
    "    \n",
    "    # Configure property\n",
    "    property_stats[0][RM_IDX] = nr_rooms\n",
    "    property_stats[0][PTRATIO_IDX] = students_per_classroom\n",
    "    \n",
    "    if next_to_river:\n",
    "         property_stats[0][CHAS_IDX] = 1\n",
    "    else:\n",
    "         property_stats[0][CHAS_IDX] = 0\n",
    "              \n",
    "    # Make prediction\n",
    "    log_estimate = regr.predict(property_stats)[0][0]\n",
    "    \n",
    "    # Calc range\n",
    "    if high_confidence:\n",
    "        upper_bound = log_estimate + 2 * RMSE\n",
    "        lower_bound = log_estimate - 2 * RMSE\n",
    "        interval = 95\n",
    "    else:\n",
    "        upper_bound = log_estimate + RMSE\n",
    "        lower_bound = log_estimate - RMSE\n",
    "        interval = 65\n",
    "    \n",
    "    return log_estimate, upper_bound, lower_bound, interval"
   ]
  },
  {
   "cell_type": "code",
   "execution_count": 46,
   "id": "17de7ebe",
   "metadata": {},
   "outputs": [
    {
     "data": {
      "text/plain": [
       "(2.776758191480399, 3.1517824618746597, 2.4017339210861386, 95)"
      ]
     },
     "execution_count": 46,
     "metadata": {},
     "output_type": "execute_result"
    }
   ],
   "source": [
    "get_log_estimate(3, 20, next_to_river=True)"
   ]
  },
  {
   "cell_type": "code",
   "execution_count": 59,
   "id": "90bf4671",
   "metadata": {},
   "outputs": [
    {
     "name": "stdout",
     "output_type": "stream",
     "text": [
      "The estimated property value is USD 827000.0.\n",
      "At 65% confidence the valuation range is\n",
      "USD 685000.0 at lower end to USD 685000.0 at the high end\n"
     ]
    }
   ],
   "source": [
    "# Converting the log price estimate using 1970s prices\n",
    "# as well as the upper and the lower bounds to today's prices.\n",
    "\n",
    "today_median_price = 583.3\n",
    "scale_factor = today_median_price / np.median(boston_dataset.target)"
   ]
  },
  {
   "cell_type": "code",
   "execution_count": 85,
   "id": "d6da4eb7",
   "metadata": {},
   "outputs": [],
   "source": [
    "def get_dollar_estimate(rm, ptratio, chas=False, large_Range=True):\n",
    "    \"\"\"Estimate the price of a property in Boston\n",
    "    \n",
    "    Keyword arguments:\n",
    "    rm -- number of rooms in the property\n",
    "    ptratio -- number of students per teacher in the classroom for the school in the area\n",
    "    char -- True if the property is next to the river, False otherwise\n",
    "    large_range -- True for a 95% prediction interval, False for a 68% interval\n",
    "    \n",
    "    \"\"\"\n",
    "    \n",
    "    if rm < 1 or ptratio < 1:\n",
    "        print('That is unrealistic. Try again.')\n",
    "        return\n",
    "    \n",
    "    log_est, upper, lower, conf = get_log_estimate(rm, ptratio,\n",
    "                                              next_to_river=chas, high_confidence=large_Range)\n",
    "\n",
    "    # Convert to today's dollars\n",
    "    dollar_est = np.e**log_est * 1000 * scale_factor\n",
    "    dollar_hi = np.e**upper * 1000 * scale_factor\n",
    "    dollar_low = np.e**lower * 1000 * scale_factor\n",
    "\n",
    "    # Round the dollar values to nearest thousand\n",
    "    rounded_est = np.around(dollar_est, -3)\n",
    "    rounded_hi = np.around(dollar_hi, -3)\n",
    "    rounded_low = np.around(dollar_low, -3)\n",
    "\n",
    "    print(f'The estimated property value is USD {rounded_est}.')\n",
    "    print(f'At {conf}% confidence the valuation range is')\n",
    "    print(f'USD {rounded_low} at lower end to USD {rounded_hi} at the high end')"
   ]
  },
  {
   "cell_type": "code",
   "execution_count": 86,
   "id": "dc20504f",
   "metadata": {},
   "outputs": [
    {
     "name": "stdout",
     "output_type": "stream",
     "text": [
      "The estimated property value is USD 254000.0.\n",
      "At 95% confidence the valuation range is\n",
      "USD 174000.0 at lower end to USD 369000.0 at the high end\n"
     ]
    }
   ],
   "source": [
    "get_dollar_estimate(rm=1, ptratio=30, chas=True)"
   ]
  },
  {
   "cell_type": "code",
   "execution_count": 87,
   "id": "0935fca3",
   "metadata": {},
   "outputs": [],
   "source": [
    "import boston_valuation as val"
   ]
  },
  {
   "cell_type": "code",
   "execution_count": 88,
   "id": "8d32b1de",
   "metadata": {},
   "outputs": [
    {
     "name": "stdout",
     "output_type": "stream",
     "text": [
      "The estimated property value is USD 254000.0.\n",
      "At 95% confidence the valuation range is\n",
      "USD 174000.0 at lower end to USD 369000.0 at the high end\n"
     ]
    }
   ],
   "source": [
    "val.get_dollar_estimate(rm=1, ptratio=30, chas=True)"
   ]
  }
 ],
 "metadata": {
  "kernelspec": {
   "display_name": "Python 3",
   "language": "python",
   "name": "python3"
  },
  "language_info": {
   "codemirror_mode": {
    "name": "ipython",
    "version": 3
   },
   "file_extension": ".py",
   "mimetype": "text/x-python",
   "name": "python",
   "nbconvert_exporter": "python",
   "pygments_lexer": "ipython3",
   "version": "3.8.8"
  }
 },
 "nbformat": 4,
 "nbformat_minor": 5
}
